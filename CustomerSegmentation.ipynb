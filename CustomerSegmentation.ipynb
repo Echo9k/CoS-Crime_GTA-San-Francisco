{
  "nbformat": 4,
  "nbformat_minor": 0,
  "metadata": {
    "colab": {
      "name": "CustomerSegmentation.ipynb",
      "provenance": [],
      "collapsed_sections": [],
      "machine_shape": "hm",
      "include_colab_link": true
    },
    "kernelspec": {
      "name": "python3",
      "display_name": "Python 3"
    }
  },
  "cells": [
    {
      "cell_type": "markdown",
      "metadata": {
        "id": "view-in-github",
        "colab_type": "text"
      },
      "source": [
        "<a href=\"https://colab.research.google.com/github/Echo9k/CoS-Crime_GTA-San-Francisco/blob/master/CustomerSegmentation.ipynb\" target=\"_parent\"><img src=\"https://colab.research.google.com/assets/colab-badge.svg\" alt=\"Open In Colab\"/></a>"
      ]
    },
    {
      "cell_type": "markdown",
      "metadata": {
        "id": "8VdNJkOuTJY7",
        "colab_type": "text"
      },
      "source": [
        "# Set up"
      ]
    },
    {
      "cell_type": "code",
      "metadata": {
        "id": "zKGmwi9pUVDi",
        "colab_type": "code",
        "outputId": "744072b0-b668-4963-e721-e74c8ad64fee",
        "colab": {
          "base_uri": "https://localhost:8080/",
          "height": 70
        }
      },
      "source": [
        "# Code to read csv file into Colaboratory:\n",
        "import pandas as pd\n",
        "import numpy as np\n",
        "import scipy.stats as st\n",
        "\n",
        "import matplotlib.pyplot as plt\n",
        "import seaborn as sns; sns.set(style=\"ticks\", color_codes=True)\n",
        "cmap = sns.diverging_palette(220, 10, as_cmap=True) ## Defining the color map\n",
        "\n",
        "from sklearn.experimental import enable_iterative_imputer\n",
        "from sklearn.impute import IterativeImputer\n",
        "from sklearn.preprocessing import LabelEncoder\n",
        "\n",
        "from google.colab import drive\n",
        "drive.mount('/content/drive/')\n",
        "import glob\n",
        "\n",
        "import os\n",
        "os.chdir(\"/content/drive/My Drive/info/ConcentradoClientes\")\n",
        "print(\"Working directory:\\n\", os.getcwd())"
      ],
      "execution_count": 0,
      "outputs": [
        {
          "output_type": "stream",
          "text": [
            "Drive already mounted at /content/drive/; to attempt to forcibly remount, call drive.mount(\"/content/drive/\", force_remount=True).\n",
            "Working directory:\n",
            " /content/drive/My Drive/info/ConcentradoClientes\n"
          ],
          "name": "stdout"
        }
      ]
    },
    {
      "cell_type": "markdown",
      "metadata": {
        "id": "CA_AZYZIeZ9t",
        "colab_type": "text"
      },
      "source": [
        "## Importing data"
      ]
    },
    {
      "cell_type": "code",
      "metadata": {
        "id": "PtmARYuJN9rh",
        "colab_type": "code",
        "outputId": "a26ca2de-43a7-4bde-993e-11bf3b4be402",
        "colab": {
          "base_uri": "https://localhost:8080/",
          "height": 87
        }
      },
      "source": [
        "%cd /content/drive/My Drive/info/ConcentradoClientes\n",
        "%ls"
      ],
      "execution_count": 0,
      "outputs": [
        {
          "output_type": "stream",
          "text": [
            "/content\n",
            "cc_2014.xlsx  cc_2017.xlsx        CustomerData.csv     RPV_score.csv\n",
            "cc_2015.xlsx  cc_2018.xlsx        ReporteLealtad.xlsx\n",
            "cc_2016.xlsx  cc_oct18-sep19.csv  RFC_labels.csv\n"
          ],
          "name": "stdout"
        }
      ]
    },
    {
      "cell_type": "code",
      "metadata": {
        "id": "xns6EbxRh-or",
        "colab_type": "code",
        "colab": {}
      },
      "source": [
        "def append_data(fileNames,\n",
        "                usecols=None):\n",
        "  \"\"\" Reads a list of file names/paths, then\n",
        "      appends it in a single pandas.DataFrame; \n",
        "  fileNames takes the file path; \n",
        "  usecols takes the list of columns to use (list of int / str)\"\"\"\n",
        "  data = pd.DataFrame()\n",
        "  for file in fileNames:\n",
        "    df = pd.read_excel(file, sheet_name='Hoja1',\n",
        "                      header=1, \n",
        "                      usecols=usecols,\n",
        "                      date_parser=['FECHA', 'FECHA2', 'FECHA3'],\n",
        "                      ignore_index=True,\n",
        "                      sort=True)\n",
        "    \n",
        "    df.dropna(0,'any', 5, None, True)\n",
        "    \n",
        "    data = pd.concat([data, df], ignore_index=True)\n",
        "    \n",
        "  print(\"Successful DataFrame creation!\")\n",
        "  print(\"shape:\", data.shape)\n",
        "  return data"
      ],
      "execution_count": 0,
      "outputs": []
    },
    {
      "cell_type": "code",
      "metadata": {
        "id": "PEHg2K-Xlg_R",
        "colab_type": "code",
        "outputId": "7e6bd94d-996a-49b0-ccfb-6097b5f70a2b",
        "colab": {
          "base_uri": "https://localhost:8080/",
          "height": 52
        }
      },
      "source": [
        "# Read the data from previous years\n",
        "fileNames = glob.glob('*'+'cc_20'+'*.xlsx')   # get the file names\n",
        "\n",
        "# read files, store data appended: previous_years_data\n",
        "previous_years = append_data(fileNames,\n",
        "                             list(range(0,44)))"
      ],
      "execution_count": 0,
      "outputs": [
        {
          "output_type": "stream",
          "text": [
            "Successful DataFrame creation!\n",
            "shape: (1201961, 44)\n"
          ],
          "name": "stdout"
        }
      ]
    },
    {
      "cell_type": "code",
      "metadata": {
        "id": "IScV7UMB7Pzv",
        "colab_type": "code",
        "colab": {}
      },
      "source": [
        "# Include the data from 2019\n",
        "## Read the data from 2019, use range to drop the column 'CANCELADO'\n",
        "data_2019 = pd.read_csv(\"cc_oct18-sep19.csv\",\n",
        "                        usecols=list(range(0,44)),\n",
        "                        parse_dates=['FECHA', 'FECHA2', 'FECHA3'],\n",
        "                        low_memory=False)\n",
        "\n",
        "data_2019.dropna(0,'any', 6, None, True)\n",
        "\n",
        "## Remove the spaces from the colum names\n",
        "data_2019.columns = data_2019.columns.str.replace(' ','')\n",
        "previous_years.columns = previous_years.columns.str.replace(' ','')\n",
        "\n",
        "## Select the rows from 2019\n",
        "data_2019 = data_2019[data_2019['FECHA3'] >= '01/01/2019']"
      ],
      "execution_count": 0,
      "outputs": []
    },
    {
      "cell_type": "code",
      "metadata": {
        "id": "1bYmFSUQWq2a",
        "colab_type": "code",
        "colab": {}
      },
      "source": [
        "## Concatenate all the data: raw_data\n",
        "raw_data = pd.concat([previous_years, data_2019],\n",
        "                     sort=True,\n",
        "                     ignore_index=True)"
      ],
      "execution_count": 0,
      "outputs": []
    },
    {
      "cell_type": "markdown",
      "metadata": {
        "id": "7_uuXB-hPqdg",
        "colab_type": "text"
      },
      "source": [
        "# Inspecting data"
      ]
    },
    {
      "cell_type": "markdown",
      "metadata": {
        "id": "7luYOx7gjFxa",
        "colab_type": "text"
      },
      "source": [
        "## Initial inspection"
      ]
    },
    {
      "cell_type": "code",
      "metadata": {
        "id": "SYInCvGsoGN3",
        "colab_type": "code",
        "colab": {}
      },
      "source": [
        "def missing_data(data):\n",
        "    total = data.isnull().sum().sort_values(ascending = False)\n",
        "    percent = (data.isnull().sum()/data.isnull().count()*100).sort_values(ascending = False)\n",
        "    df = pd.concat([total, percent], axis=1, keys=['Total', 'Percent'])\n",
        "    df.columns.name = 'missing values'\n",
        "    df.index.name = 'features to fix'\n",
        "    return df[df.Percent>0]"
      ],
      "execution_count": 0,
      "outputs": []
    },
    {
      "cell_type": "code",
      "metadata": {
        "id": "o3Bwa0-xm3DE",
        "colab_type": "code",
        "outputId": "281243dc-9fb6-4a25-a246-c03e1adc445c",
        "colab": {
          "base_uri": "https://localhost:8080/",
          "height": 497
        }
      },
      "source": [
        "# # Select the columns with more than 20% of missing values\n",
        "cols_with_na = missing_data(raw_data)\n",
        "raw_data.drop(cols_with_na[cols_with_na.Percent > 15].index,\n",
        "             axis=1,\n",
        "             inplace=True)\n",
        "missing_data(raw_data)"
      ],
      "execution_count": 0,
      "outputs": [
        {
          "output_type": "execute_result",
          "data": {
            "text/html": [
              "<div>\n",
              "<style scoped>\n",
              "    .dataframe tbody tr th:only-of-type {\n",
              "        vertical-align: middle;\n",
              "    }\n",
              "\n",
              "    .dataframe tbody tr th {\n",
              "        vertical-align: top;\n",
              "    }\n",
              "\n",
              "    .dataframe thead th {\n",
              "        text-align: right;\n",
              "    }\n",
              "</style>\n",
              "<table border=\"1\" class=\"dataframe\">\n",
              "  <thead>\n",
              "    <tr style=\"text-align: right;\">\n",
              "      <th>missing values</th>\n",
              "      <th>Total</th>\n",
              "      <th>Percent</th>\n",
              "    </tr>\n",
              "    <tr>\n",
              "      <th>features to fix</th>\n",
              "      <th></th>\n",
              "      <th></th>\n",
              "    </tr>\n",
              "  </thead>\n",
              "  <tbody>\n",
              "    <tr>\n",
              "      <th>MARCA</th>\n",
              "      <td>721</td>\n",
              "      <td>0.057232</td>\n",
              "    </tr>\n",
              "    <tr>\n",
              "      <th>MODELO</th>\n",
              "      <td>469</td>\n",
              "      <td>0.037229</td>\n",
              "    </tr>\n",
              "    <tr>\n",
              "      <th>MUNICIPIO</th>\n",
              "      <td>443</td>\n",
              "      <td>0.035165</td>\n",
              "    </tr>\n",
              "    <tr>\n",
              "      <th>ESTADO</th>\n",
              "      <td>356</td>\n",
              "      <td>0.028259</td>\n",
              "    </tr>\n",
              "    <tr>\n",
              "      <th>COLONIA</th>\n",
              "      <td>180</td>\n",
              "      <td>0.014288</td>\n",
              "    </tr>\n",
              "    <tr>\n",
              "      <th>TIPOTELEFONO</th>\n",
              "      <td>106</td>\n",
              "      <td>0.008414</td>\n",
              "    </tr>\n",
              "    <tr>\n",
              "      <th>CP</th>\n",
              "      <td>43</td>\n",
              "      <td>0.003413</td>\n",
              "    </tr>\n",
              "    <tr>\n",
              "      <th>EDAD</th>\n",
              "      <td>18</td>\n",
              "      <td>0.001429</td>\n",
              "    </tr>\n",
              "    <tr>\n",
              "      <th>DIRECCIÓN</th>\n",
              "      <td>16</td>\n",
              "      <td>0.001270</td>\n",
              "    </tr>\n",
              "    <tr>\n",
              "      <th>GENERO</th>\n",
              "      <td>10</td>\n",
              "      <td>0.000794</td>\n",
              "    </tr>\n",
              "    <tr>\n",
              "      <th>NOMBRE</th>\n",
              "      <td>10</td>\n",
              "      <td>0.000794</td>\n",
              "    </tr>\n",
              "    <tr>\n",
              "      <th>PATERNO</th>\n",
              "      <td>4</td>\n",
              "      <td>0.000318</td>\n",
              "    </tr>\n",
              "    <tr>\n",
              "      <th>MATERNO</th>\n",
              "      <td>3</td>\n",
              "      <td>0.000238</td>\n",
              "    </tr>\n",
              "    <tr>\n",
              "      <th>TELÉFONO</th>\n",
              "      <td>2</td>\n",
              "      <td>0.000159</td>\n",
              "    </tr>\n",
              "  </tbody>\n",
              "</table>\n",
              "</div>"
            ],
            "text/plain": [
              "missing values   Total   Percent\n",
              "features to fix                 \n",
              "MARCA              721  0.057232\n",
              "MODELO             469  0.037229\n",
              "MUNICIPIO          443  0.035165\n",
              "ESTADO             356  0.028259\n",
              "COLONIA            180  0.014288\n",
              "TIPOTELEFONO       106  0.008414\n",
              "CP                  43  0.003413\n",
              "EDAD                18  0.001429\n",
              "DIRECCIÓN           16  0.001270\n",
              "GENERO              10  0.000794\n",
              "NOMBRE              10  0.000794\n",
              "PATERNO              4  0.000318\n",
              "MATERNO              3  0.000238\n",
              "TELÉFONO             2  0.000159"
            ]
          },
          "metadata": {
            "tags": []
          },
          "execution_count": 8
        }
      ]
    },
    {
      "cell_type": "markdown",
      "metadata": {
        "id": "WJhAKavJx2N3",
        "colab_type": "text"
      },
      "source": [
        "## Selecting columns"
      ]
    },
    {
      "cell_type": "code",
      "metadata": {
        "id": "IEDEoJtA3bWQ",
        "colab_type": "code",
        "colab": {}
      },
      "source": [
        "# Drop sensitive information\n",
        "sensitive_cols = ['NOMBRE', 'PATERNO', 'MATERNO', 'DIRECCIÓN',\n",
        "                  'COLONIA', 'TELÉFONO', 'TIPOTELEFONO']\n",
        "raw_data.drop(sensitive_cols, axis=1, inplace=True)\n",
        "\n",
        "raw_data.drop(['MODELO'], axis=1,\n",
        "             inplace=True)  # We wont use this"
      ],
      "execution_count": 0,
      "outputs": []
    },
    {
      "cell_type": "code",
      "metadata": {
        "id": "ZjqgZmluCRxz",
        "colab_type": "code",
        "colab": {}
      },
      "source": [
        "# cast that observation as int present in #ARTUCULOS\n",
        "# identify and deleate the row with '  12:00:00 a. m.'\n",
        "bool_list = raw_data['#ARTUCULOS'] == '  12:00:00 a. m.'\n",
        "idx_to_drop = raw_data[bool_list].index\n",
        "raw_data.drop(idx_to_drop,\n",
        "             inplace=True)\n",
        "\n",
        "raw_data['#ARTUCULOS'][raw_data['#ARTUCULOS'] == '  12:00:00 a. m.'].index\n",
        "\n",
        "# some rows have an ':' symbol which we want to remove\n",
        "raw_data['#ARTUCULOS'] = raw_data['#ARTUCULOS'].apply(\n",
        "                                  lambda x: float(x.replace(':', ''))\n",
        "                                  if type(x) == str else x)"
      ],
      "execution_count": 0,
      "outputs": []
    },
    {
      "cell_type": "markdown",
      "metadata": {
        "id": "JV8dsduBzmmE",
        "colab_type": "text"
      },
      "source": [
        "# Data cleaning"
      ]
    },
    {
      "cell_type": "markdown",
      "metadata": {
        "id": "UdYd02ZHjXZm",
        "colab_type": "text"
      },
      "source": [
        "## Set up"
      ]
    },
    {
      "cell_type": "markdown",
      "metadata": {
        "id": "Ds_y3rRZr5UW",
        "colab_type": "text"
      },
      "source": [
        "## Inputation\n",
        "Some rows contain missing information in the form of negative ones and nans.\n",
        "To fix this we are going to use two separate sklearn imputers.\n",
        "\n",
        "*   First for the NA values of the MONTO column\n",
        "*   Then for the -1 values in the selected columns\n",
        "\n"
      ]
    },
    {
      "cell_type": "markdown",
      "metadata": {
        "id": "jXC_lEHw81vC",
        "colab_type": "text"
      },
      "source": [
        "## Imputer"
      ]
    },
    {
      "cell_type": "code",
      "metadata": {
        "id": "Y_pXMhmD2-tx",
        "colab_type": "code",
        "colab": {}
      },
      "source": [
        "raw_data.drop(columns=['PRENDADOS', 'PRESTAMO'], inplace=True)"
      ],
      "execution_count": 0,
      "outputs": []
    },
    {
      "cell_type": "code",
      "metadata": {
        "id": "wk32VYqozpVU",
        "colab_type": "code",
        "colab": {}
      },
      "source": [
        "from sklearn import preprocessing\n",
        "from sklearn.experimental import enable_iterative_imputer\n",
        "from sklearn.impute import IterativeImputer, SimpleImputer"
      ],
      "execution_count": 0,
      "outputs": []
    },
    {
      "cell_type": "code",
      "metadata": {
        "id": "7H-vFac0m-MS",
        "colab_type": "code",
        "colab": {}
      },
      "source": [
        "# Select non numeric columns\n",
        "obj_cols = (raw_data.dtypes == 'object').index\n",
        "# checks if the col contain the '$'\n",
        "cash_cols = raw_data[obj_cols].columns[raw_data.iloc[-1].str.contains('\\$') == True]"
      ],
      "execution_count": 0,
      "outputs": []
    },
    {
      "cell_type": "code",
      "metadata": {
        "id": "5Z5V9asPclOI",
        "colab_type": "code",
        "colab": {}
      },
      "source": [
        "raw_data[cash_cols] = raw_data[cash_cols].apply(lambda x: x.str.replace('$', ''))\n",
        "raw_data[cash_cols] = raw_data[cash_cols].apply(lambda x: x.str.replace(' ', ''))\n",
        "raw_data[cash_cols] = raw_data[cash_cols].apply(lambda x: x.str.replace(',', ''))\n",
        "raw_data[cash_cols] = raw_data[cash_cols].apply(lambda x: x.str.replace('-', ''))\n",
        "\n",
        "raw_data.replace('', np.nan, inplace=True)\n",
        "raw_data.replace(-1, np.nan, inplace=True)\n",
        "\n",
        "raw_data['PRESTAMO'] = raw_data['PRESTAMO'].apply(\n",
        "                                  lambda x: float(x.replace(':', ''))\n",
        "                                  if type(x) == str else x)\n",
        "\n",
        "# raw_data[cash_cols] = raw_data[cash_cols].apply(lambda x: x.astype(float))"
      ],
      "execution_count": 0,
      "outputs": []
    },
    {
      "cell_type": "code",
      "metadata": {
        "id": "BjUdL6DltvuX",
        "colab_type": "code",
        "outputId": "785f4fe5-ad84-479b-a59f-7bea0ca55dab",
        "colab": {
          "base_uri": "https://localhost:8080/",
          "height": 257
        }
      },
      "source": [
        "raw_data.dropna(0, 'any', 3, None, True)\n",
        "\n",
        "cols_with_na = missing_data(raw_data)\n",
        "raw_data.drop(cols_with_na[cols_with_na.Percent > 50].index,\n",
        "             axis=1,\n",
        "             inplace=True)\n",
        "missing_data(raw_data)"
      ],
      "execution_count": 0,
      "outputs": [
        {
          "output_type": "execute_result",
          "data": {
            "text/html": [
              "<div>\n",
              "<style scoped>\n",
              "    .dataframe tbody tr th:only-of-type {\n",
              "        vertical-align: middle;\n",
              "    }\n",
              "\n",
              "    .dataframe tbody tr th {\n",
              "        vertical-align: top;\n",
              "    }\n",
              "\n",
              "    .dataframe thead th {\n",
              "        text-align: right;\n",
              "    }\n",
              "</style>\n",
              "<table border=\"1\" class=\"dataframe\">\n",
              "  <thead>\n",
              "    <tr style=\"text-align: right;\">\n",
              "      <th>missing values</th>\n",
              "      <th>Total</th>\n",
              "      <th>Percent</th>\n",
              "    </tr>\n",
              "    <tr>\n",
              "      <th>features to fix</th>\n",
              "      <th></th>\n",
              "      <th></th>\n",
              "    </tr>\n",
              "  </thead>\n",
              "  <tbody>\n",
              "    <tr>\n",
              "      <th>MARCA</th>\n",
              "      <td>721</td>\n",
              "      <td>0.057232</td>\n",
              "    </tr>\n",
              "    <tr>\n",
              "      <th>MUNICIPIO</th>\n",
              "      <td>443</td>\n",
              "      <td>0.035165</td>\n",
              "    </tr>\n",
              "    <tr>\n",
              "      <th>ESTADO</th>\n",
              "      <td>356</td>\n",
              "      <td>0.028259</td>\n",
              "    </tr>\n",
              "    <tr>\n",
              "      <th>EDAD</th>\n",
              "      <td>81</td>\n",
              "      <td>0.006430</td>\n",
              "    </tr>\n",
              "    <tr>\n",
              "      <th>CP</th>\n",
              "      <td>43</td>\n",
              "      <td>0.003413</td>\n",
              "    </tr>\n",
              "    <tr>\n",
              "      <th>GENERO</th>\n",
              "      <td>10</td>\n",
              "      <td>0.000794</td>\n",
              "    </tr>\n",
              "  </tbody>\n",
              "</table>\n",
              "</div>"
            ],
            "text/plain": [
              "missing values   Total   Percent\n",
              "features to fix                 \n",
              "MARCA              721  0.057232\n",
              "MUNICIPIO          443  0.035165\n",
              "ESTADO             356  0.028259\n",
              "EDAD                81  0.006430\n",
              "CP                  43  0.003413\n",
              "GENERO              10  0.000794"
            ]
          },
          "metadata": {
            "tags": []
          },
          "execution_count": 22
        }
      ]
    },
    {
      "cell_type": "code",
      "metadata": {
        "id": "1Jozc2ksonD3",
        "colab_type": "code",
        "colab": {}
      },
      "source": [
        "# list numerical columns only\n",
        "is_number = np.vectorize(lambda x: np.issubdtype(x, np.number))\n",
        "numeric_cols_bool = is_number(raw_data.dtypes)\n",
        "numeric_cols = raw_data.columns[numeric_cols_bool]\n",
        "numeric_cols = list(set(numeric_cols) - set(['CP','CALIFICACIONORIGINAL', 'CALIFICACIONFINAL']))"
      ],
      "execution_count": 0,
      "outputs": []
    },
    {
      "cell_type": "code",
      "metadata": {
        "id": "XZIJTpJ2q5Rw",
        "colab_type": "code",
        "colab": {}
      },
      "source": [
        "raw_data[['CALIFICACIONORIGINAL', 'CALIFICACIONFINAL']].apply(lambda x: x.replace(np.nan, 'BRONCE'))\n",
        "\n",
        "imp = IterativeImputer()\n",
        "raw_data[numeric_cols] = imp.fit_transform(raw_data[numeric_cols])\n",
        "\n",
        "imp = IterativeImputer(missing_values=-1)\n",
        "raw_data[numeric_cols] = imp.fit_transform(raw_data[numeric_cols])"
      ],
      "execution_count": 0,
      "outputs": []
    },
    {
      "cell_type": "markdown",
      "metadata": {
        "id": "0f6qLjKYjM0Q",
        "colab_type": "text"
      },
      "source": [
        "### Age correction"
      ]
    },
    {
      "cell_type": "code",
      "metadata": {
        "id": "oRnYjEQFe2aC",
        "colab_type": "code",
        "outputId": "ebc08634-325e-4034-9287-6ceecc00ef6a",
        "colab": {
          "base_uri": "https://localhost:8080/",
          "height": 125
        }
      },
      "source": [
        "# Age correction using RFC as reference\n",
        "# Select the RFC (index) of the customers with a suspicious age\n",
        "wrong_age = raw_data[(raw_data.EDAD<18) | (raw_data.EDAD>100)].index\n",
        "RFC_to_ck = raw_data.loc[wrong_age].index\n",
        "\n",
        "# Extract the birthday from the RFC\n",
        "raw_data['bday'] = [i[4:10] for i in raw_data.RFC]\n",
        "# raw_data['bday'] = pd.to_datetime(raw_data['bday'], format='%y%m%d')\n",
        "\n",
        "# Extract bday, get the age and replace the original.\n",
        "bday = raw_data['bday'][RFC_to_ck]\n",
        "time_difference = pd.Timestamp.now() - pd.to_datetime(bday,\n",
        "                                                      format='%y%m%d')\n",
        "time_difference = time_difference.astype('timedelta64[D]')  # Extract the days\n",
        "years = (time_difference / 365).astype(int)  # convert days to years\n",
        "\n",
        "raw_data.EDAD[wrong_age] = years"
      ],
      "execution_count": 0,
      "outputs": [
        {
          "output_type": "stream",
          "text": [
            "/usr/local/lib/python3.6/dist-packages/ipykernel_launcher.py:15: SettingWithCopyWarning: \n",
            "A value is trying to be set on a copy of a slice from a DataFrame\n",
            "\n",
            "See the caveats in the documentation: http://pandas.pydata.org/pandas-docs/stable/user_guide/indexing.html#returning-a-view-versus-a-copy\n",
            "  from ipykernel import kernelapp as app\n"
          ],
          "name": "stderr"
        }
      ]
    },
    {
      "cell_type": "code",
      "metadata": {
        "id": "p_rbw7elRsxL",
        "colab_type": "code",
        "outputId": "6c8a5fbb-744e-4567-c15b-0bbd12a41f31",
        "colab": {
          "base_uri": "https://localhost:8080/",
          "height": 72
        }
      },
      "source": [
        "np.nan_to_num(raw_data['EDAD'], False, 0, 0, 0)\n",
        "\n",
        "cols_with_negs = [-1 in raw_data[name].values for name in raw_data.columns]\n",
        "colNames_negs = raw_data.columns[cols_with_negs] # gets colum names\n",
        "\n",
        "imp = SimpleImputer(missing_values=-1,\n",
        "                    strategy='mean')\n",
        "\n",
        "a = imp.fit_transform(raw_data[colNames_negs])\n",
        "raw_data[colNames_negs] = a.astype(int)"
      ],
      "execution_count": 0,
      "outputs": [
        {
          "output_type": "stream",
          "text": [
            "/usr/local/lib/python3.6/dist-packages/ipykernel_launcher.py:3: DeprecationWarning: elementwise comparison failed; this will raise an error in the future.\n",
            "  This is separate from the ipykernel package so we can avoid doing imports until\n"
          ],
          "name": "stderr"
        }
      ]
    },
    {
      "cell_type": "code",
      "metadata": {
        "id": "dMkApd8d4fpS",
        "colab_type": "code",
        "colab": {}
      },
      "source": [
        "# Seting RFC as the index\n",
        "raw_data.sort_values('FECHA3',\n",
        "                    inplace=True)       # Sort FECHA3 (last transaction)\n",
        "\n",
        "raw_data.drop_duplicates('RFC',\n",
        "                        'last', True)   # last transaction per client\n",
        "\n",
        "# replace RFC with labels\n",
        "le = preprocessing.LabelEncoder()\n",
        "RFC_labeled = le.fit_transform(raw_data['RFC'])\n",
        "RFC_labels = pd.DataFrame({'rfc':raw_data['RFC']}).set_index(RFC_labeled)\n",
        "RFC_labels.to_csv('RFC_labels.csv')     # Export labels-RFC as CSV\n",
        "\n",
        "raw_data.set_index(RFC_labeled,\n",
        "                  inplace=True)        # Set the index"
      ],
      "execution_count": 0,
      "outputs": []
    },
    {
      "cell_type": "code",
      "metadata": {
        "id": "4g3WZPDwvJGK",
        "colab_type": "code",
        "colab": {}
      },
      "source": [
        "# caps min age to 18 y/o\n",
        "raw_data['EDAD'] = raw_data['EDAD'].where(raw_data['EDAD'] >= 18, 18)\n",
        "raw_data['EDAD'] = raw_data['EDAD'].where(raw_data['EDAD'] <= 100, 820)"
      ],
      "execution_count": 0,
      "outputs": []
    },
    {
      "cell_type": "code",
      "metadata": {
        "id": "kXafxi99loAP",
        "colab_type": "code",
        "outputId": "384b8506-267a-457f-daae-dba97a3ad116",
        "colab": {
          "base_uri": "https://localhost:8080/",
          "height": 302
        }
      },
      "source": [
        "# from scipy import stats\n",
        "sns.distplot(raw_data.EDAD[:10000], fit=st.skewnorm)"
      ],
      "execution_count": 0,
      "outputs": [
        {
          "output_type": "execute_result",
          "data": {
            "text/plain": [
              "<matplotlib.axes._subplots.AxesSubplot at 0x7f93e045c898>"
            ]
          },
          "metadata": {
            "tags": []
          },
          "execution_count": 36
        },
        {
          "output_type": "display_data",
          "data": {
            "image/png": "[encoded data removed]",
            "text/plain": [
              "<Figure size 432x288 with 1 Axes>"
            ]
          },
          "metadata": {
            "tags": []
          }
        }
      ]
    },
    {
      "cell_type": "markdown",
      "metadata": {
        "id": "xP0VdLjzB7bm",
        "colab_type": "text"
      },
      "source": [
        "# Feature engeneering"
      ]
    },
    {
      "cell_type": "markdown",
      "metadata": {
        "id": "kruq6V_wMhMu",
        "colab_type": "text"
      },
      "source": [
        "This is is were we export our data cleaned and corrected. To use it later anywhere. Also it will be a checkpoint for us."
      ]
    },
    {
      "cell_type": "code",
      "metadata": {
        "id": "guiAZGkoMfMH",
        "colab_type": "code",
        "colab": {}
      },
      "source": [
        "# Export the raw_data as: \n",
        "raw_data.to_csv('CustomerData.csv')"
      ],
      "execution_count": 0,
      "outputs": []
    },
    {
      "cell_type": "markdown",
      "metadata": {
        "id": "ABVDwU339G-r",
        "colab_type": "text"
      },
      "source": [
        "### New features"
      ]
    },
    {
      "cell_type": "code",
      "metadata": {
        "id": "DlKiTckh9Zkq",
        "colab_type": "code",
        "colab": {}
      },
      "source": [
        "# Has retruned in August or later?\n",
        "raw_data['last3m'] = raw_data.FECHA3>'2019-06-30'"
      ],
      "execution_count": 0,
      "outputs": []
    },
    {
      "cell_type": "code",
      "metadata": {
        "id": "jq-2wV9QhDu9",
        "colab_type": "code",
        "colab": {}
      },
      "source": [
        "# Counts the repetitions of each RFC\n",
        "freq = raw_data.RFC.value_counts()\n",
        "freq.name = 'frequency'\n",
        "\n",
        "# obteins the tenure for each RFC\n",
        "tenure = raw_data.groupby(['RFC'])['FECHA3'].min()\n",
        "tenure.name = 'tenure'\n",
        "\n",
        "# Include the frequency column at the correct RFC\n",
        "raw_data = raw_data.join(freq,\n",
        "                       on='RFC')  # includes the frecuency column\n",
        "\n",
        "raw_data = raw_data.join(tenure,\n",
        "                       on='RFC')  # includes the tenure column"
      ],
      "execution_count": 0,
      "outputs": []
    },
    {
      "cell_type": "code",
      "metadata": {
        "id": "NccElxTp9Jxj",
        "colab_type": "code",
        "colab": {}
      },
      "source": [
        "imp = SimpleImputer(missing_values=np.nan, strategy='constant', fill_value=0)\n",
        "\n",
        "a = imp.fit_transform(raw_data[['CALIFICACIONFINAL','CALIFICACIONORIGINAL']])\n",
        "raw_data[['CALIFICACIONFINAL','CALIFICACIONORIGINAL']] = a"
      ],
      "execution_count": 0,
      "outputs": []
    },
    {
      "cell_type": "code",
      "metadata": {
        "id": "5238cxqLiycw",
        "colab_type": "code",
        "colab": {}
      },
      "source": [
        "# Compute the change of lending score\n",
        "score_cols = ['CALIFICACIONFINAL', 'CALIFICACIONORIGINAL']\n",
        "raw_data[score_cols] = raw_data[score_cols].replace({'DIAMANTE': 3,\n",
        "                                                   'ORO': 2,\n",
        "                                                   'PLATA': 1,\n",
        "                                                   'BRONCE': 0})\n",
        "\n",
        "raw_data['CALIFICACIONORIGINAL'] = raw_data['CALIFICACIONORIGINAL'].astype(int)\n",
        "raw_data['CALIFICACIONFINAL'] = raw_data['CALIFICACIONFINAL'].astype(int)\n",
        "\n",
        "raw_data['ScoreChange'] = raw_data.CALIFICACIONFINAL - raw_data.CALIFICACIONORIGINAL"
      ],
      "execution_count": 0,
      "outputs": []
    },
    {
      "cell_type": "markdown",
      "metadata": {
        "id": "88by8zXtzAhX",
        "colab_type": "text"
      },
      "source": [
        "## Label columns"
      ]
    },
    {
      "cell_type": "code",
      "metadata": {
        "id": "R0prHwnczEOf",
        "colab_type": "code",
        "colab": {}
      },
      "source": [
        "obj_cols = raw_data.columns[(raw_data.dtypes == 'object')]\n",
        "labeled = pd.DataFrame(index=raw_data.index)\n",
        "for col in obj_cols:\n",
        "  le = preprocessing.LabelEncoder()\n",
        "  labeled[col] = le.fit_transform(raw_data[col])"
      ],
      "execution_count": 0,
      "outputs": []
    },
    {
      "cell_type": "code",
      "metadata": {
        "id": "WfrRXau8-lII",
        "colab_type": "code",
        "colab": {}
      },
      "source": [
        "pd.concat([labeled, raw_data[numeric_cols]], axis=1)"
      ],
      "execution_count": 0,
      "outputs": []
    },
    {
      "cell_type": "markdown",
      "metadata": {
        "id": "Ajbq12HaPdTd",
        "colab_type": "text"
      },
      "source": [
        "# PreProcesing"
      ]
    },
    {
      "cell_type": "markdown",
      "metadata": {
        "id": "vh6Kd93QQJEv",
        "colab_type": "text"
      },
      "source": [
        "## Distribution analisis"
      ]
    },
    {
      "cell_type": "code",
      "metadata": {
        "id": "JmGEqDcuQRaF",
        "colab_type": "code",
        "colab": {}
      },
      "source": [
        "from scipy.stats import skew\n",
        "from scipy.stats import skewtest\n",
        "from scipy.stats import kurtosis\n",
        "\n",
        "# Measure skewness and kurtosis\n",
        "def stats_data(df, cols):\n",
        "  cc_stats = pd.DataFrame()\n",
        "  cc_stats['skew'] = [skew(df[i]) for i in df[cols]]\n",
        "  cc_stats['kurtosis'] = [kurtosis(df[i]) for i in df[cols]]\n",
        "  cc_stats['skewtest'] = [skewtest(df[i])[0] for i in df[cols]]\n",
        "  # cc_stats['p_value'] = [skewtest(df[i])[1] for i in df[cols]]\n",
        "  cc_stats.index = cols\n",
        "  return cc_stats.sort_values('skew', 0, False)"
      ],
      "execution_count": 0,
      "outputs": []
    },
    {
      "cell_type": "code",
      "metadata": {
        "id": "4ndKPQgh1H5P",
        "colab_type": "code",
        "colab": {}
      },
      "source": [
        "# Find the inclinations of each numerical column\n",
        "stats_data(raw_data, numeric_cols).head()"
      ],
      "execution_count": 0,
      "outputs": []
    },
    {
      "cell_type": "markdown",
      "metadata": {
        "id": "fFezuOprKhIO",
        "colab_type": "text"
      },
      "source": [
        "## Transformations"
      ]
    },
    {
      "cell_type": "code",
      "metadata": {
        "id": "YnNShNTGKj-t",
        "colab_type": "code",
        "colab": {}
      },
      "source": [
        "# Transformations\n",
        "from sklearn.preprocessing import QuantileTransformer\n",
        "\n",
        "transformer = QuantileTransformer(\n",
        "    output_distribution='normal', random_state=1)\n",
        "Q_trans = transformer.fit_transform(raw_data[numeric_cols])\n",
        "\n",
        "cc_qartileTransform = pd.DataFrame(Q_trans, raw_data.index, columns=numeric_cols)\n",
        "# cc_qartileTransform.describe()\n",
        "stats_data(cc_qartileTransform, numeric_cols).head(3).round(2)"
      ],
      "execution_count": 0,
      "outputs": []
    },
    {
      "cell_type": "code",
      "metadata": {
        "id": "n6b1laOXc-xw",
        "colab_type": "code",
        "colab": {}
      },
      "source": [
        "# Transformations\n",
        "from sklearn.preprocessing import PowerTransformer\n",
        "\n",
        "transformer = PowerTransformer()\n",
        "P_trans = transformer.fit_transform(raw_data[numeric_cols])\n",
        "\n",
        "cc_powTransform = pd.DataFrame(Q_trans, raw_data.index, columns=numeric_cols)\n",
        "# cc_powTransform.describe()\n",
        "stats_data(cc_powTransform, numeric_cols).head(3).round(2)"
      ],
      "execution_count": 0,
      "outputs": []
    },
    {
      "cell_type": "markdown",
      "metadata": {
        "id": "v1b8Y9qJaio2",
        "colab_type": "text"
      },
      "source": [
        "Comparing the resoult for the column #REFRENDOS"
      ]
    },
    {
      "cell_type": "code",
      "metadata": {
        "id": "OVp-Vjba5LB2",
        "colab_type": "code",
        "colab": {}
      },
      "source": [
        "plt.figure(figsize=(16,5))\n",
        "\n",
        "plt.subplot(1,2,1); plt.title('Quartile Transformation')\n",
        "sns.distplot(Q_trans[0])\n",
        "\n",
        "plt.subplot(1,2,2); plt.title('Power Transformation')\n",
        "sns.distplot(P_trans[0])"
      ],
      "execution_count": 0,
      "outputs": []
    },
    {
      "cell_type": "markdown",
      "metadata": {
        "id": "vlpqv66nKw-T",
        "colab_type": "text"
      },
      "source": [
        "## Scaling"
      ]
    },
    {
      "cell_type": "code",
      "metadata": {
        "id": "IEKu_PuaOJZl",
        "colab_type": "code",
        "colab": {}
      },
      "source": [
        "# Robust Scaler\n",
        "from sklearn.preprocessing import RobustScaler"
      ],
      "execution_count": 0,
      "outputs": []
    },
    {
      "cell_type": "code",
      "metadata": {
        "id": "QEmmuZGyKx_Y",
        "colab_type": "code",
        "colab": {}
      },
      "source": [
        "transformer = RobustScaler()\n",
        "\n",
        "cc_robustScale = pd.DataFrame(transformer.fit_transform(cc_powTransform),\n",
        "                              raw_data.index, columns=numeric_cols)"
      ],
      "execution_count": 0,
      "outputs": []
    },
    {
      "cell_type": "code",
      "metadata": {
        "id": "wtMuBfKwedpm",
        "colab_type": "code",
        "colab": {}
      },
      "source": [
        "# Compare their graphs\n",
        "plt.figure(figsize=(16,5))\n",
        "plt.subplots_adjust(hspace=0.3)\n",
        "\n",
        "# afterRobustScale\n",
        "rs_ref = cc_robustScale['#REFRENDOS']\n",
        "s = (\"skeness {skewness}:  \\nkurtosis: {kurtosis} \\nmean:   {mean} \\nstdev:    {stdev}\").\\\n",
        "                                format(skewness = skew(rs_ref.dropna()),\n",
        "                                       kurtosis = kurtosis(rs_ref.dropna()),\n",
        "                                       mean = np.mean(rs_ref.dropna()),\n",
        "                                       stdev = np.std(rs_ref.dropna()))\n",
        "plt.subplot(1,2,2); plt.title('robustScale')\n",
        "plt.text(0, 4, s, fontsize=12)\n",
        "sns.distplot(rs_ref.dropna())\n"
      ],
      "execution_count": 0,
      "outputs": []
    },
    {
      "cell_type": "code",
      "metadata": {
        "id": "afCvfGx7DlqX",
        "colab_type": "code",
        "colab": {}
      },
      "source": [
        "fig = plt.figure(figsize=(20, 60))\n",
        "for i in range(len(cc_powTransform.columns)):\n",
        "  plt.subplot(len(cc_powTransform.columns), 3, (i+1))\n",
        "  plt.subplots_adjust(hspace=0.5)\n",
        "  # plt.title(numeric_cols[i])\n",
        "  sns.distplot(cc_powTransform[cc_powTransform.columns[i]], hist=True)"
      ],
      "execution_count": 0,
      "outputs": []
    },
    {
      "cell_type": "markdown",
      "metadata": {
        "id": "eFaXwzjiPf3a",
        "colab_type": "text"
      },
      "source": [
        "# RFMT analisis"
      ]
    },
    {
      "cell_type": "code",
      "metadata": {
        "id": "sg-Z8aThLdhE",
        "colab_type": "code",
        "colab": {}
      },
      "source": [
        "# Define a function to add a label according to the client score\n",
        "def RFMT_Level(scores):\n",
        "  intervals = pd.qcut(raw_data['RFM_Level'], q=4).sort_values().unique()\n",
        "  levels = []\n",
        "  for score in scores:\n",
        "    if score in intervals[0]:\n",
        "        levels.append('low')\n",
        "    elif score in intervals[1]:\n",
        "        levels.append('Mid_L')\n",
        "    elif score in intervals[2]:\n",
        "        levels.append('Mid_H')\n",
        "    else:\n",
        "        levels.append('High')\n",
        "  return levels"
      ],
      "execution_count": 0,
      "outputs": []
    },
    {
      "cell_type": "code",
      "metadata": {
        "id": "m3pfRRZfHqpR",
        "colab_type": "code",
        "colab": {}
      },
      "source": [
        "vm_values = pd.qcut(raw_data['MONTO_ANUAL'], q=4, labels=range(1,5))\n",
        "pct_values = pd.cut(raw_data['PORCENTAJE'], 4, labels=range(1,5))\n",
        "r_values = pd.qcut(raw_data['FECHA3'], q=4, labels=range(1,5))\n",
        "t_values = pd.qcut(raw_data['tenure'], q=4, labels=range(4,0,-1))"
      ],
      "execution_count": 0,
      "outputs": []
    },
    {
      "cell_type": "code",
      "metadata": {
        "id": "xCgvVuq6D19g",
        "colab_type": "code",
        "colab": {}
      },
      "source": [
        "quartiles = pd.DataFrame({'RecentVisitor':raw_data.last3m,\n",
        "                          'DateLastVisit':raw_data.FECHA3,\n",
        "                          'Tenure':raw_data.tenure})\n",
        "\n",
        "quartiles = quartiles.assign(\n",
        "                V = vm_values,\n",
        "                P = pct_values,\n",
        "                R = r_values,\n",
        "                T = t_values)\n",
        "quartiles[['V','P', 'R', 'T']]  = quartiles[['V','P', 'R', 'T']].astype(int)\n",
        "quartiles['RFMT_Score'] = quartiles[['R','P','V', 'T']].sum(axis=1)\n",
        "\n",
        "quartiles['label'] = RFMT_Level(quartiles['RFMT_Score'])"
      ],
      "execution_count": 0,
      "outputs": []
    },
    {
      "cell_type": "code",
      "metadata": {
        "id": "Pyh-um22OPD_",
        "colab_type": "code",
        "colab": {}
      },
      "source": [
        "# Calculate average values for each RFM_Level, and return a size of each segment \n",
        "rfm_level_agg = quartiles.groupby(['label']).agg({\n",
        "    'R': 'mean',\n",
        "    'P': 'mean',\n",
        "    'V': 'mean',\n",
        "    'T': ['mean', 'count']\n",
        "}).round(1)\n",
        "\n",
        "# Print the aggregated dataset\n",
        "print(rfm_level_agg)"
      ],
      "execution_count": 0,
      "outputs": []
    },
    {
      "cell_type": "code",
      "metadata": {
        "id": "TLi6fmmfLQFO",
        "colab_type": "code",
        "colab": {}
      },
      "source": [
        "quartiles.head()"
      ],
      "execution_count": 0,
      "outputs": []
    },
    {
      "cell_type": "code",
      "metadata": {
        "id": "yhbzJIglCRO3",
        "colab_type": "code",
        "colab": {}
      },
      "source": [
        "# Snake plot\n",
        "## using normalized data\n",
        "sk_melt = pd.melt(quartiles.reset_index(),\n",
        "        id_vars = ['index', 'RFMT_Score'],\n",
        "        value_vars = ['R', 'P', 'V', 'T'],\n",
        "        var_name = 'Attribute',\n",
        "        value_name = 'Value')\n",
        "\n",
        "plt.figure(figsize=(15,9)); plt.title('4k | Snake plot')\n",
        "sns.lineplot(data = sk_melt,\n",
        "             x = 'Attribute', y = 'Value',\n",
        "             hue='RFMT_Score',\n",
        "             sort=False)\n",
        "plt.show()"
      ],
      "execution_count": 0,
      "outputs": []
    },
    {
      "cell_type": "code",
      "metadata": {
        "id": "Zv_k9EgJKohR",
        "colab_type": "code",
        "colab": {}
      },
      "source": [
        "sns.distplot(quartiles.RFMT_Score, kde=False)"
      ],
      "execution_count": 0,
      "outputs": []
    },
    {
      "cell_type": "markdown",
      "metadata": {
        "id": "-N3GuRNIgflR",
        "colab_type": "text"
      },
      "source": [
        "# Clustering"
      ]
    },
    {
      "cell_type": "markdown",
      "metadata": {
        "id": "aFc7kpUoQ3xv",
        "colab_type": "text"
      },
      "source": [
        "## Dimensionality Reduction"
      ]
    },
    {
      "cell_type": "markdown",
      "metadata": {
        "id": "SSITJ4bpgKLE",
        "colab_type": "text"
      },
      "source": [
        "### **PCA** Principal Component Analisis"
      ]
    },
    {
      "cell_type": "code",
      "metadata": {
        "id": "DGwgfkP1N4Ei",
        "colab_type": "code",
        "colab": {}
      },
      "source": [
        ""
      ],
      "execution_count": 0,
      "outputs": []
    },
    {
      "cell_type": "markdown",
      "metadata": {
        "id": "HmjoMnqXYM4d",
        "colab_type": "text"
      },
      "source": [
        "## KMeans Clustering"
      ]
    },
    {
      "cell_type": "markdown",
      "metadata": {
        "id": "oQSaTFblD2lB",
        "colab_type": "text"
      },
      "source": [
        "\n",
        "## Correlations"
      ]
    },
    {
      "cell_type": "code",
      "metadata": {
        "id": "Y2cYTN9mWlIR",
        "colab_type": "code",
        "colab": {}
      },
      "source": [
        "def corr_sqr(df, target, var):\n",
        "  fig = plt.figure(figsize=(17,25))\n",
        "  cmap = sns.diverging_palette(220, 10, as_cmap=True) ## Defining the color map\n",
        "\n",
        "  corrmat = df.corr()\n",
        "  cols = abs(corrmat).nlargest(var, target)[target].index\n",
        "\n",
        "  # correlation matrix\n",
        "  plt.figure(); plt.title('Correlation matrix (num_cols)')\n",
        "  cm = np.corrcoef(raw_data[cols].values.T)\n",
        "  sns.set(font_scale=1.1)\n",
        "  hm = sns.heatmap(cm, cbar=True, cmap=cmap, annot=True, square=True, fmt='.2f', annot_kws={'size': 9}, yticklabels=cols.values, xticklabels=cols.values)\n",
        "  plt.show()"
      ],
      "execution_count": 0,
      "outputs": []
    },
    {
      "cell_type": "code",
      "metadata": {
        "id": "J8Nq2Sc0Vo1n",
        "colab_type": "code",
        "colab": {}
      },
      "source": [
        "# corr_sqr(cc_robustScale, 'Refrendos', 9)"
      ],
      "execution_count": 0,
      "outputs": []
    },
    {
      "cell_type": "markdown",
      "metadata": {
        "id": "r0T1qhQhYcZY",
        "colab_type": "text"
      },
      "source": [
        "## Clustering\n",
        "Lets start with a simple cluster witouth feature engeneering"
      ]
    },
    {
      "cell_type": "code",
      "metadata": {
        "id": "OO6lGsXqYipS",
        "colab_type": "code",
        "colab": {}
      },
      "source": [
        "from sklearn.cluster import KMeans"
      ],
      "execution_count": 0,
      "outputs": []
    },
    {
      "cell_type": "markdown",
      "metadata": {
        "id": "g6yJnYpneBbM",
        "colab_type": "text"
      },
      "source": [
        "### Choosing the number of clusters"
      ]
    },
    {
      "cell_type": "code",
      "metadata": {
        "id": "NF5IJpBLeF6V",
        "colab_type": "code",
        "colab": {}
      },
      "source": [
        "sse = {}\n",
        "for k in range(1,20):\n",
        "  km = KMeans(n_clusters=k, random_state=1)\n",
        "  km.fit(cc_robustScale)\n",
        "  sse[k] = km.inertia_"
      ],
      "execution_count": 0,
      "outputs": []
    },
    {
      "cell_type": "code",
      "metadata": {
        "id": "9CAbaWhZeZqm",
        "colab_type": "code",
        "colab": {}
      },
      "source": [
        "plt.figure(figsize=(7,3))\n",
        "plt.title(\"Elbow plot of inertia for diferent number of clusters\")\n",
        "plt.xlabel('k'); plt.ylabel('SSE')\n",
        "sns.pointplot(x=list(sse.keys()), y=list(sse.values()))\n",
        "plt.show()"
      ],
      "execution_count": 0,
      "outputs": []
    },
    {
      "cell_type": "markdown",
      "metadata": {
        "id": "HXCe9onjj1wj",
        "colab_type": "text"
      },
      "source": [
        "### Comparing diferent k values\n"
      ]
    },
    {
      "cell_type": "markdown",
      "metadata": {
        "id": "G0xppqhOpj6z",
        "colab_type": "text"
      },
      "source": [
        "#### 4 Neighbors\n",
        "As suggested by the elbow method, let's start setting k=4."
      ]
    },
    {
      "cell_type": "code",
      "metadata": {
        "id": "L73bUov7XRg-",
        "colab_type": "code",
        "colab": {}
      },
      "source": [
        "cc_robustScale.describe()"
      ],
      "execution_count": 0,
      "outputs": []
    },
    {
      "cell_type": "code",
      "metadata": {
        "id": "ac4KHb3eg-fE",
        "colab_type": "code",
        "colab": {}
      },
      "source": [
        "# 4 neighbors | The recomendation\n",
        "km = KMeans(n_clusters=4, random_state=1)\n",
        "km.fit(cc_robustScale)\n",
        "cluster_labels = km.labels_\n",
        "\n",
        "# Table with original data\n",
        "cc_rfm_k4 = raw_data.assign(Cluster = cluster_labels,\n",
        "                           Reciente = quartiles.R)\n",
        "\n",
        "cc_rfm_k4.groupby('Cluster').agg({\n",
        "    'Reciente': 'mean',\n",
        "    'PORCENTAJE' : 'mean',\n",
        "    'MONTO_ANUAL' : ['mean', 'count']\n",
        "}).round(2)"
      ],
      "execution_count": 0,
      "outputs": []
    },
    {
      "cell_type": "markdown",
      "metadata": {
        "id": "NL2l8dp2Ju75",
        "colab_type": "text"
      },
      "source": [
        "<h5>Snake plot</h5>"
      ]
    },
    {
      "cell_type": "code",
      "metadata": {
        "id": "FeAqAWtQo3no",
        "colab_type": "code",
        "colab": {}
      },
      "source": [
        "# Snake plot\n",
        "## using normalized data\n",
        "sk_data = cc_robustScale.assign(Cluster = cluster_labels,\n",
        "                                R = quartiles.R - np.mean(quartiles.R))\n",
        "\n",
        "sk_data.PORCENTAJE = (cc_robustScale.PORCENTAJE)\n",
        "sk_melt = pd.melt(sk_data.reset_index(),\n",
        "        id_vars = ['RFC', 'Cluster'],\n",
        "        value_vars = ['R', 'PORCENTAJE', 'MONTO_ANUAL'],\n",
        "        var_name = 'Attribute',\n",
        "        value_name = 'Value')\n",
        "\n",
        "plt.figure(figsize=(15,9))\n",
        "plt.title('4k | Snake plot')\n",
        "sns.lineplot(data = sk_melt,\n",
        "             x = 'Attribute', y = 'Value',\n",
        "             hue='Cluster', sort=False,)\n",
        "plt.show()"
      ],
      "execution_count": 0,
      "outputs": []
    },
    {
      "cell_type": "code",
      "metadata": {
        "id": "lIOxaOdZIJUu",
        "colab_type": "code",
        "colab": {}
      },
      "source": [
        "# Calculate average RFM values for each cluster\n",
        "cluster_avg = cc_rfm_k4.groupby(['Cluster']).mean() \n",
        "\n",
        "# Calculate average RFM values for the total customer population\n",
        "population_avg = cc_rfm_k4.mean(axis=0)\n",
        "\n",
        "# Calculate relative importance of cluster's attribute value compared to population\n",
        "relative_imp = cluster_avg / population_avg - 1\n",
        "\n",
        "# heat map of relative importance for each \n",
        "plt.figure(figsize=(10, 8))\n",
        "sns.heatmap(relative_imp.T, annot=True, fmt='.2f')\n",
        "plt.show()"
      ],
      "execution_count": 0,
      "outputs": []
    },
    {
      "cell_type": "markdown",
      "metadata": {
        "id": "PnC853nbnZab",
        "colab_type": "text"
      },
      "source": [
        "#### 3 Neighnors"
      ]
    },
    {
      "cell_type": "code",
      "metadata": {
        "id": "03bgqXFJiaww",
        "colab_type": "code",
        "colab": {}
      },
      "source": [
        "# 3 neighbors | The recomendation\n",
        "km = KMeans(n_clusters=3, random_state=1)\n",
        "km.fit(cc_robustScale)\n",
        "cluster_labels = km.labels_\n",
        "\n",
        "cc_rfm_k3 = raw_data.assign(Cluster = cluster_labels,\n",
        "                           R = quartiles.R)\n",
        "\n",
        "cc_rfm_k3.groupby('Cluster').agg({\n",
        "    'R': 'mean',\n",
        "    'PORCENTAJE' : 'mean',\n",
        "    'MONTO_ANUAL' : ['mean', 'count']\n",
        "}).round(0)"
      ],
      "execution_count": 0,
      "outputs": []
    },
    {
      "cell_type": "code",
      "metadata": {
        "id": "Zs9L1O-Go_qu",
        "colab_type": "code",
        "colab": {}
      },
      "source": [
        "# Snake plot\n",
        "sk_data = cc_robustScale.assign(Cluster = cluster_labels,\n",
        "                                R = 3 * (quartiles.R - np.mean(quartiles.R)))\n",
        "\n",
        "sk_data.PORCENTAJE = (1.2*cc_robustScale.PORCENTAJE)\n",
        "sk_melt = pd.melt(sk_data.reset_index(),\n",
        "        id_vars = ['RFC', 'Cluster'],\n",
        "        value_vars = ['R', 'PORCENTAJE', 'MONTO_ANUAL'],\n",
        "        var_name = 'Attribute',\n",
        "        value_name = 'Value')\n",
        "\n",
        "plt.figure(figsize=(15,9))\n",
        "plt.title('3k | Snake plot')\n",
        "sns.lineplot(data = sk_melt,\n",
        "             x = 'Attribute', y = 'Value',\n",
        "             hue='Cluster', sort=False)\n",
        "plt.show()"
      ],
      "execution_count": 0,
      "outputs": []
    },
    {
      "cell_type": "markdown",
      "metadata": {
        "id": "CqsDaG42p5MM",
        "colab_type": "text"
      },
      "source": [
        "#### 5 Neighbors"
      ]
    },
    {
      "cell_type": "code",
      "metadata": {
        "id": "LTAmuziSiJMJ",
        "colab_type": "code",
        "colab": {}
      },
      "source": [
        "# 5 neighbors\n",
        "km = KMeans(n_clusters=5, random_state=1)\n",
        "km.fit(cc_robustScale)\n",
        "cluster_labels = km.labels_\n",
        "\n",
        "sk_data.PORCENTAJE = (2.5*cc_robustScale.PORCENTAJE)\n",
        "cc_rfm_k5 = raw_data.assign(Cluster = cluster_labels,\n",
        "                           R = quartiles.R)\n",
        "\n",
        "cc_rfm_k5.groupby(['Cluster']).agg({\n",
        "    'PRESTAMOSLIQUIDADOS': 'mean',\n",
        "    'PORCENTAJE' : 'mean',\n",
        "    'MONTO_ANUAL' : ['mean', 'count']\n",
        "}).round(0)"
      ],
      "execution_count": 0,
      "outputs": []
    },
    {
      "cell_type": "code",
      "metadata": {
        "id": "xwODEIq9pXzK",
        "colab_type": "code",
        "colab": {}
      },
      "source": [
        "# Snake plot\n",
        "sk_data = cc_robustScale.assign(Cluster = cc_rfm_k5.Cluster,\n",
        "                             R = 3.2 * (quartiles.R - np.mean(quartiles.R)))\n",
        "\n",
        "sk_melt = pd.melt(sk_data.reset_index(),\n",
        "        id_vars = ['RFC', 'Cluster'],\n",
        "        value_vars = ['R', 'PORCENTAJE', 'MONTO_ANUAL'],\n",
        "        var_name = 'Attribute',\n",
        "        value_name = 'Value')\n",
        "\n",
        "plt.figure(figsize=(15,9))\n",
        "plt.figure(figsize=(15,9))\n",
        "plt.title('5k | Snake plot')\n",
        "sns.lineplot(data = sk_melt,\n",
        "             x = 'Attribute', y = 'Value',\n",
        "             hue='Cluster', sort=False)\n",
        "plt.show()"
      ],
      "execution_count": 0,
      "outputs": []
    },
    {
      "cell_type": "markdown",
      "metadata": {
        "id": "2DnIIfrRi-ZC",
        "colab_type": "text"
      },
      "source": [
        "### Fuerther Analisis"
      ]
    },
    {
      "cell_type": "code",
      "metadata": {
        "id": "mH2BvIUXi-DY",
        "colab_type": "code",
        "colab": {}
      },
      "source": [
        "cc_rfm_k4.groupby(['Cluster', 'Active']).agg({\n",
        "    'PRESTAMOSLIQUIDADOS': 'mean',\n",
        "    'PORCENTAJE' : 'mean',\n",
        "    'MONTO_ANUAL' : ['mean', 'count']\n",
        "}).round(0)"
      ],
      "execution_count": 0,
      "outputs": []
    },
    {
      "cell_type": "markdown",
      "metadata": {
        "id": "u7gEI-BDnU24",
        "colab_type": "text"
      },
      "source": [
        "#### snake plot"
      ]
    },
    {
      "cell_type": "code",
      "metadata": {
        "id": "vPlqIdKIn2AI",
        "colab_type": "code",
        "colab": {}
      },
      "source": [
        "cc_robustScale.describe()"
      ],
      "execution_count": 0,
      "outputs": []
    },
    {
      "cell_type": "code",
      "metadata": {
        "id": "l9jIUl8-8J2s",
        "colab_type": "code",
        "colab": {}
      },
      "source": [
        "raw_data[score_cols] = raw_data[score_cols].replace({ '3': 'DIAMANTE',\n",
        "                                                      '2': 'ORO',\n",
        "                                                      '1': 'PLATA',\n",
        "                                                      '0': 'BRONCE'})\n",
        "raw_data.join(cc_rfm_k4.Cluster, how='inner').to_csv(\"cc_clustered.csv\")"
      ],
      "execution_count": 0,
      "outputs": []
    },
    {
      "cell_type": "code",
      "metadata": {
        "id": "aihQUiXjvMgJ",
        "colab_type": "code",
        "colab": {}
      },
      "source": [
        ""
      ],
      "execution_count": 0,
      "outputs": []
    }
  ]
}